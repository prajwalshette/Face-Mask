{
  "cells": [
    {
      "cell_type": "code",
      "execution_count": 11,
      "metadata": {
        "colab": {
          "base_uri": "https://localhost:8080/"
        },
        "id": "fuEtRJTr8WV3",
        "outputId": "3b6318e9-525f-4898-a626-18a38ff66104"
      },
      "outputs": [
        {
          "output_type": "stream",
          "name": "stdout",
          "text": [
            "Drive already mounted at /content/drive; to attempt to forcibly remount, call drive.mount(\"/content/drive\", force_remount=True).\n"
          ]
        }
      ],
      "source": [
        "from google.colab import drive\n",
        "drive.mount('/content/drive')\n"
      ]
    },
    {
      "cell_type": "markdown",
      "source": [
        "**Face Mask Detectin Using CNN**"
      ],
      "metadata": {
        "id": "cXIpV5UW9mWE"
      }
    },
    {
      "cell_type": "markdown",
      "source": [
        "Importing necessary libraries"
      ],
      "metadata": {
        "id": "iC23k6N9-fx9"
      }
    },
    {
      "cell_type": "code",
      "execution_count": 24,
      "metadata": {
        "id": "6Ch4RNy79Lv_"
      },
      "outputs": [],
      "source": [
        "import pandas as pd\n",
        "import numpy as np\n",
        "import os\n",
        "import tensorflow as tf\n",
        "import cv2\n",
        "from  matplotlib import pyplot as plt\n",
        "import matplotlib.image as mpimg\n",
        "from tensorflow import keras # Import keras API\n",
        "%matplotlib inline"
      ]
    },
    {
      "cell_type": "markdown",
      "source": [
        "Upload Dataset"
      ],
      "metadata": {
        "id": "8vmzREjX_wtX"
      }
    },
    {
      "cell_type": "code",
      "execution_count": 29,
      "metadata": {
        "colab": {
          "base_uri": "https://localhost:8080/"
        },
        "id": "7EQOyrP3V3H2",
        "outputId": "25e1dca3-98a0-44bc-e313-90052ca159d6"
      },
      "outputs": [
        {
          "output_type": "stream",
          "name": "stdout",
          "text": [
            "{'with_mask': 0, 'without_mask': 1}\n",
            "['with_mask', 'without_mask']\n",
            "[0, 1]\n"
          ]
        }
      ],
      "source": [
        "# import cv2,os\n",
        "data_path=\"/content/drive/MyDrive/face_mask/dataset\"\n",
        "categories=os.listdir(data_path)\n",
        "labels=[i for i in range(len(categories))]\n",
        "label_dict=dict(zip(categories,labels))\n",
        "print(label_dict)\n",
        "print(categories)\n",
        "print(labels)"
      ]
    },
    {
      "cell_type": "markdown",
      "source": [
        "Data Pre-Processing of model"
      ],
      "metadata": {
        "id": "pRsDGvXrACtU"
      }
    },
    {
      "cell_type": "code",
      "execution_count": 30,
      "metadata": {
        "id": "9G6BJSv49L3g"
      },
      "outputs": [],
      "source": [
        "from sklearn.preprocessing import LabelBinarizer\n",
        "from tensorflow.keras.utils import to_categorical\n",
        "from sklearn.model_selection import train_test_split\n",
        "from scipy.sparse.construct import random\n",
        "\n",
        "img_rows, img_cols=112, 112\n",
        "images=[]\n",
        "labels=[]\n",
        "\n",
        "for category in categories:\n",
        "  folder_path=os.path.join(data_path,category)\n",
        "  img_names=os.listdir(folder_path)\n",
        "\n",
        "  for img_name in img_names:\n",
        "    img_path=os.path.join(folder_path,img_name)\n",
        "    img=cv2.imread(img_path)\n",
        "\n",
        "    try:\n",
        "        # converting image into gray sacle\n",
        "        grayscale_img=cv2.cvtColor(img,cv2.COLOR_BGR2GRAY)\n",
        "         \n",
        "        # resizing the gray scale into 100x100, since we need a fixed common size for all the images in the dataset\n",
        "        resized_img=cv2.resize(grayscale_img,(img_rows,img_cols))\n",
        "        images.append(resized_img)\n",
        "        labels.append(label_dict[category])\n",
        "        # appending\n",
        "\n",
        "    except Exception as e:\n",
        "      print('Exception:',e)\n",
        "      # if any exception\n",
        "      \n",
        "images=np.array(images)/255.0\n",
        "images=np.reshape(images,(images.shape[0],img_rows,img_cols,1))\n",
        "\n",
        "lb = LabelBinarizer()\n",
        "labels = lb.fit_transform(labels)\n",
        "labels = to_categorical(labels)\n",
        "labels = np.array(labels)\n",
        "\n",
        "(train_x,test_x,train_y,test_y) = train_test_split(images,labels , test_size=0.25,random_state=0)"
      ]
    },
    {
      "cell_type": "code",
      "source": [
        "# with_mask=690, without_mask=686\n",
        "images.shape"
      ],
      "metadata": {
        "colab": {
          "base_uri": "https://localhost:8080/"
        },
        "id": "7XoZXByGDsXs",
        "outputId": "ba1bf877-dd0f-41d3-b1ba-0c30a37a0a5d"
      },
      "execution_count": 31,
      "outputs": [
        {
          "output_type": "execute_result",
          "data": {
            "text/plain": [
              "(1376, 112, 112, 1)"
            ]
          },
          "metadata": {},
          "execution_count": 31
        }
      ]
    },
    {
      "cell_type": "code",
      "source": [
        "train_x.shape, test_x.shape"
      ],
      "metadata": {
        "colab": {
          "base_uri": "https://localhost:8080/"
        },
        "id": "y7AbXc64Dsmb",
        "outputId": "dcb2e15d-dfc4-456f-a7cb-783e6b2f4ada"
      },
      "execution_count": 32,
      "outputs": [
        {
          "output_type": "execute_result",
          "data": {
            "text/plain": [
              "((1032, 112, 112, 1), (344, 112, 112, 1))"
            ]
          },
          "metadata": {},
          "execution_count": 32
        }
      ]
    },
    {
      "cell_type": "code",
      "source": [
        "train_y.shape, test_y.shape"
      ],
      "metadata": {
        "colab": {
          "base_uri": "https://localhost:8080/"
        },
        "id": "A41JprsZEj9k",
        "outputId": "1a6ea1c4-303b-42e3-da31-f0c036563f8e"
      },
      "execution_count": 33,
      "outputs": [
        {
          "output_type": "execute_result",
          "data": {
            "text/plain": [
              "((1032, 2), (344, 2))"
            ]
          },
          "metadata": {},
          "execution_count": 33
        }
      ]
    },
    {
      "cell_type": "code",
      "execution_count": 34,
      "metadata": {
        "colab": {
          "base_uri": "https://localhost:8080/"
        },
        "id": "7HMJAVFo9L9L",
        "outputId": "bd8ad34f-f296-49e8-fe77-f54be2c013fc"
      },
      "outputs": [
        {
          "output_type": "stream",
          "name": "stdout",
          "text": [
            "[[[[1.        ]\n",
            "   [1.        ]\n",
            "   [1.        ]\n",
            "   ...\n",
            "   [1.        ]\n",
            "   [1.        ]\n",
            "   [1.        ]]\n",
            "\n",
            "  [[1.        ]\n",
            "   [1.        ]\n",
            "   [1.        ]\n",
            "   ...\n",
            "   [1.        ]\n",
            "   [1.        ]\n",
            "   [1.        ]]\n",
            "\n",
            "  [[1.        ]\n",
            "   [1.        ]\n",
            "   [1.        ]\n",
            "   ...\n",
            "   [0.99607843]\n",
            "   [0.99607843]\n",
            "   [1.        ]]\n",
            "\n",
            "  ...\n",
            "\n",
            "  [[1.        ]\n",
            "   [1.        ]\n",
            "   [0.99215686]\n",
            "   ...\n",
            "   [1.        ]\n",
            "   [1.        ]\n",
            "   [1.        ]]\n",
            "\n",
            "  [[1.        ]\n",
            "   [1.        ]\n",
            "   [1.        ]\n",
            "   ...\n",
            "   [0.99215686]\n",
            "   [0.99607843]\n",
            "   [0.99607843]]\n",
            "\n",
            "  [[1.        ]\n",
            "   [1.        ]\n",
            "   [1.        ]\n",
            "   ...\n",
            "   [0.99215686]\n",
            "   [0.96862745]\n",
            "   [0.90980392]]]\n",
            "\n",
            "\n",
            " [[[0.99215686]\n",
            "   [0.99215686]\n",
            "   [0.99215686]\n",
            "   ...\n",
            "   [0.99215686]\n",
            "   [0.99215686]\n",
            "   [0.99215686]]\n",
            "\n",
            "  [[0.99215686]\n",
            "   [0.99215686]\n",
            "   [0.99215686]\n",
            "   ...\n",
            "   [0.99215686]\n",
            "   [0.99215686]\n",
            "   [0.99215686]]\n",
            "\n",
            "  [[0.99215686]\n",
            "   [0.99215686]\n",
            "   [0.99215686]\n",
            "   ...\n",
            "   [0.99215686]\n",
            "   [0.99215686]\n",
            "   [0.99215686]]\n",
            "\n",
            "  ...\n",
            "\n",
            "  [[0.99215686]\n",
            "   [0.99215686]\n",
            "   [0.99215686]\n",
            "   ...\n",
            "   [0.99215686]\n",
            "   [0.99215686]\n",
            "   [0.99215686]]\n",
            "\n",
            "  [[0.99215686]\n",
            "   [0.99215686]\n",
            "   [0.99215686]\n",
            "   ...\n",
            "   [0.99215686]\n",
            "   [0.99215686]\n",
            "   [0.99215686]]\n",
            "\n",
            "  [[0.99215686]\n",
            "   [0.99215686]\n",
            "   [0.99215686]\n",
            "   ...\n",
            "   [0.99215686]\n",
            "   [0.99215686]\n",
            "   [0.99215686]]]\n",
            "\n",
            "\n",
            " [[[1.        ]\n",
            "   [1.        ]\n",
            "   [1.        ]\n",
            "   ...\n",
            "   [0.99215686]\n",
            "   [1.        ]\n",
            "   [0.99607843]]\n",
            "\n",
            "  [[1.        ]\n",
            "   [1.        ]\n",
            "   [1.        ]\n",
            "   ...\n",
            "   [0.99215686]\n",
            "   [1.        ]\n",
            "   [0.99607843]]\n",
            "\n",
            "  [[1.        ]\n",
            "   [1.        ]\n",
            "   [1.        ]\n",
            "   ...\n",
            "   [0.99607843]\n",
            "   [0.98823529]\n",
            "   [0.98039216]]\n",
            "\n",
            "  ...\n",
            "\n",
            "  [[1.        ]\n",
            "   [0.99607843]\n",
            "   [1.        ]\n",
            "   ...\n",
            "   [0.96078431]\n",
            "   [0.99215686]\n",
            "   [0.96862745]]\n",
            "\n",
            "  [[0.99607843]\n",
            "   [0.99607843]\n",
            "   [1.        ]\n",
            "   ...\n",
            "   [0.89803922]\n",
            "   [0.97254902]\n",
            "   [0.98431373]]\n",
            "\n",
            "  [[0.99607843]\n",
            "   [0.99607843]\n",
            "   [0.99215686]\n",
            "   ...\n",
            "   [0.90980392]\n",
            "   [0.92941176]\n",
            "   [0.94117647]]]\n",
            "\n",
            "\n",
            " ...\n",
            "\n",
            "\n",
            " [[[0.        ]\n",
            "   [0.        ]\n",
            "   [0.        ]\n",
            "   ...\n",
            "   [0.03137255]\n",
            "   [0.01176471]\n",
            "   [0.01176471]]\n",
            "\n",
            "  [[0.        ]\n",
            "   [0.        ]\n",
            "   [0.        ]\n",
            "   ...\n",
            "   [0.01176471]\n",
            "   [0.00784314]\n",
            "   [0.01568627]]\n",
            "\n",
            "  [[0.        ]\n",
            "   [0.        ]\n",
            "   [0.        ]\n",
            "   ...\n",
            "   [0.29803922]\n",
            "   [0.43921569]\n",
            "   [0.34901961]]\n",
            "\n",
            "  ...\n",
            "\n",
            "  [[0.        ]\n",
            "   [0.        ]\n",
            "   [0.        ]\n",
            "   ...\n",
            "   [0.        ]\n",
            "   [0.        ]\n",
            "   [0.        ]]\n",
            "\n",
            "  [[0.        ]\n",
            "   [0.        ]\n",
            "   [0.        ]\n",
            "   ...\n",
            "   [0.        ]\n",
            "   [0.        ]\n",
            "   [0.        ]]\n",
            "\n",
            "  [[0.        ]\n",
            "   [0.        ]\n",
            "   [0.        ]\n",
            "   ...\n",
            "   [0.        ]\n",
            "   [0.        ]\n",
            "   [0.        ]]]\n",
            "\n",
            "\n",
            " [[[0.76470588]\n",
            "   [0.76470588]\n",
            "   [0.76470588]\n",
            "   ...\n",
            "   [0.74901961]\n",
            "   [0.75686275]\n",
            "   [0.75686275]]\n",
            "\n",
            "  [[0.76470588]\n",
            "   [0.76470588]\n",
            "   [0.76470588]\n",
            "   ...\n",
            "   [0.74901961]\n",
            "   [0.74901961]\n",
            "   [0.74901961]]\n",
            "\n",
            "  [[0.76078431]\n",
            "   [0.76078431]\n",
            "   [0.76078431]\n",
            "   ...\n",
            "   [0.74901961]\n",
            "   [0.74901961]\n",
            "   [0.74901961]]\n",
            "\n",
            "  ...\n",
            "\n",
            "  [[0.90980392]\n",
            "   [0.90196078]\n",
            "   [0.90588235]\n",
            "   ...\n",
            "   [0.89803922]\n",
            "   [0.91372549]\n",
            "   [0.91372549]]\n",
            "\n",
            "  [[0.89411765]\n",
            "   [0.87058824]\n",
            "   [0.86666667]\n",
            "   ...\n",
            "   [0.90588235]\n",
            "   [0.90196078]\n",
            "   [0.90196078]]\n",
            "\n",
            "  [[0.89803922]\n",
            "   [0.8745098 ]\n",
            "   [0.87058824]\n",
            "   ...\n",
            "   [0.91372549]\n",
            "   [0.90980392]\n",
            "   [0.90980392]]]\n",
            "\n",
            "\n",
            " [[[0.96470588]\n",
            "   [0.96470588]\n",
            "   [0.96862745]\n",
            "   ...\n",
            "   [0.94509804]\n",
            "   [0.94901961]\n",
            "   [0.91372549]]\n",
            "\n",
            "  [[0.97254902]\n",
            "   [0.92941176]\n",
            "   [0.92941176]\n",
            "   ...\n",
            "   [0.98039216]\n",
            "   [0.95294118]\n",
            "   [0.94117647]]\n",
            "\n",
            "  [[0.97254902]\n",
            "   [0.93333333]\n",
            "   [0.87843137]\n",
            "   ...\n",
            "   [0.97647059]\n",
            "   [0.98431373]\n",
            "   [0.89411765]]\n",
            "\n",
            "  ...\n",
            "\n",
            "  [[0.96470588]\n",
            "   [0.94901961]\n",
            "   [0.05490196]\n",
            "   ...\n",
            "   [0.92941176]\n",
            "   [0.93333333]\n",
            "   [0.94901961]]\n",
            "\n",
            "  [[0.97254902]\n",
            "   [0.94509804]\n",
            "   [0.07058824]\n",
            "   ...\n",
            "   [0.97254902]\n",
            "   [0.94509804]\n",
            "   [0.97254902]]\n",
            "\n",
            "  [[0.94117647]\n",
            "   [0.96078431]\n",
            "   [0.03921569]\n",
            "   ...\n",
            "   [0.94901961]\n",
            "   [0.96078431]\n",
            "   [0.97647059]]]]\n"
          ]
        }
      ],
      "source": [
        "print(images)"
      ]
    },
    {
      "cell_type": "markdown",
      "metadata": {
        "id": "dYk9Q0zVKJF2"
      },
      "source": [
        "Build Convolutional Neural Network (CNN)"
      ]
    },
    {
      "cell_type": "code",
      "execution_count": 35,
      "metadata": {
        "id": "EQjEjg8wKAk6"
      },
      "outputs": [],
      "source": [
        "import numpy as np\n",
        "from keras.models import Sequential\n",
        "from keras.layers import Dense,Activation,Flatten,Dropout\n",
        "from keras.layers import Conv2D,MaxPooling2D\n",
        "from keras.callbacks import ModelCheckpoint\n",
        "\n",
        "model=Sequential()\n",
        "\n",
        "#model.add(layers.Conv2d(# of filters,(size of filter,eg.(3,3)),activation='relu',input_shape=))\n",
        "model.add(Conv2D(64,(3,3),input_shape=(img_rows, img_cols,1)))\n",
        "model.add(Activation('relu'))\n",
        "model.add(MaxPooling2D(pool_size=(2,2)))\n",
        "#The first CNN layer followed by Relu and MaxPooling layers\n",
        "\n",
        "model.add(Conv2D(128,(3,3)))\n",
        "model.add(Activation('relu'))\n",
        "model.add(MaxPooling2D(pool_size=(2,2)))\n",
        "#The second convolution layer followed by Relu and MaxPooling layers\n",
        "\n",
        "model.add(Flatten())\n",
        "model.add(Dropout(0.5))\n",
        "#Flatten layer to stack the output convolutions from second convolution layer\n",
        "\n",
        "model.add(Dense(64,activation='relu'))\n",
        "#Dense layer of 64 neurons\n",
        "model.add(Dense(2,activation='softmax'))\n",
        "#The Final layer with two outputs for two categories\n",
        "\n",
        " \n"
      ]
    },
    {
      "cell_type": "code",
      "execution_count": 36,
      "metadata": {
        "colab": {
          "base_uri": "https://localhost:8080/"
        },
        "id": "lk30qSMNKAzQ",
        "outputId": "9b91cf04-2fbc-4dc9-d01f-d74921b3ce11"
      },
      "outputs": [
        {
          "output_type": "stream",
          "name": "stdout",
          "text": [
            "Model: \"sequential_2\"\n",
            "_________________________________________________________________\n",
            " Layer (type)                Output Shape              Param #   \n",
            "=================================================================\n",
            " conv2d_4 (Conv2D)           (None, 110, 110, 64)      640       \n",
            "                                                                 \n",
            " activation_4 (Activation)   (None, 110, 110, 64)      0         \n",
            "                                                                 \n",
            " max_pooling2d_4 (MaxPooling  (None, 55, 55, 64)       0         \n",
            " 2D)                                                             \n",
            "                                                                 \n",
            " conv2d_5 (Conv2D)           (None, 53, 53, 128)       73856     \n",
            "                                                                 \n",
            " activation_5 (Activation)   (None, 53, 53, 128)       0         \n",
            "                                                                 \n",
            " max_pooling2d_5 (MaxPooling  (None, 26, 26, 128)      0         \n",
            " 2D)                                                             \n",
            "                                                                 \n",
            " flatten_2 (Flatten)         (None, 86528)             0         \n",
            "                                                                 \n",
            " dropout_2 (Dropout)         (None, 86528)             0         \n",
            "                                                                 \n",
            " dense_4 (Dense)             (None, 64)                5537856   \n",
            "                                                                 \n",
            " dense_5 (Dense)             (None, 2)                 130       \n",
            "                                                                 \n",
            "=================================================================\n",
            "Total params: 5,612,482\n",
            "Trainable params: 5,612,482\n",
            "Non-trainable params: 0\n",
            "_________________________________________________________________\n"
          ]
        }
      ],
      "source": [
        "model.summary()"
      ]
    },
    {
      "cell_type": "markdown",
      "source": [
        "plot the model"
      ],
      "metadata": {
        "id": "sXhCu-_vB-sE"
      }
    },
    {
      "cell_type": "code",
      "execution_count": 37,
      "metadata": {
        "colab": {
          "base_uri": "https://localhost:8080/",
          "height": 1000
        },
        "id": "MnSxt9snL-PV",
        "outputId": "c36e957b-c74c-4c66-f78a-4a9fbddcbdd8"
      },
      "outputs": [
        {
          "output_type": "execute_result",
          "data": {
            "image/png": "[encoded data removed]",
            "text/plain": [
              "<IPython.core.display.Image object>"
            ]
          },
          "metadata": {},
          "execution_count": 37
        }
      ],
      "source": [
        "# plot the model\n",
        "from keras.utils.vis_utils import plot_model\n",
        "plot_model(model, to_file ='face_mask_detection_architecture.png')"
      ]
    },
    {
      "cell_type": "markdown",
      "source": [
        "Training the Model"
      ],
      "metadata": {
        "id": "6eA1Ic-MCUqj"
      }
    },
    {
      "cell_type": "code",
      "execution_count": 38,
      "metadata": {
        "colab": {
          "base_uri": "https://localhost:8080/"
        },
        "id": "TkQLkDspGtWi",
        "outputId": "72d1131a-36f3-4079-d0d9-705b4c438f60"
      },
      "outputs": [
        {
          "output_type": "stream",
          "name": "stdout",
          "text": [
            "Epoch 1/25\n"
          ]
        },
        {
          "output_type": "stream",
          "name": "stderr",
          "text": [
            "/usr/local/lib/python3.8/dist-packages/keras/optimizers/optimizer_v2/adam.py:110: UserWarning: The `lr` argument is deprecated, use `learning_rate` instead.\n",
            "  super(Adam, self).__init__(name, **kwargs)\n"
          ]
        },
        {
          "output_type": "stream",
          "name": "stdout",
          "text": [
            "25/25 [==============================] - 10s 43ms/step - loss: 0.8364 - accuracy: 0.5323 - val_loss: 0.8165 - val_accuracy: 0.4651\n",
            "Epoch 2/25\n",
            "25/25 [==============================] - 1s 30ms/step - loss: 0.6466 - accuracy: 0.6318 - val_loss: 0.5712 - val_accuracy: 0.6938\n",
            "Epoch 3/25\n",
            "25/25 [==============================] - 1s 32ms/step - loss: 0.4058 - accuracy: 0.8165 - val_loss: 0.7309 - val_accuracy: 0.6279\n",
            "Epoch 4/25\n",
            "25/25 [==============================] - 1s 32ms/step - loss: 0.2843 - accuracy: 0.8773 - val_loss: 0.3611 - val_accuracy: 0.8566\n",
            "Epoch 5/25\n",
            "25/25 [==============================] - 1s 30ms/step - loss: 0.2098 - accuracy: 0.9109 - val_loss: 0.2683 - val_accuracy: 0.8915\n",
            "Epoch 6/25\n",
            "25/25 [==============================] - 1s 30ms/step - loss: 0.1237 - accuracy: 0.9535 - val_loss: 0.2496 - val_accuracy: 0.8915\n",
            "Epoch 7/25\n",
            "25/25 [==============================] - 1s 30ms/step - loss: 0.0955 - accuracy: 0.9651 - val_loss: 0.2426 - val_accuracy: 0.8876\n",
            "Epoch 8/25\n",
            "25/25 [==============================] - 1s 30ms/step - loss: 0.0851 - accuracy: 0.9690 - val_loss: 0.2924 - val_accuracy: 0.9070\n",
            "Epoch 9/25\n",
            "25/25 [==============================] - 1s 32ms/step - loss: 0.0693 - accuracy: 0.9767 - val_loss: 0.2265 - val_accuracy: 0.9147\n",
            "Epoch 10/25\n",
            "25/25 [==============================] - 1s 32ms/step - loss: 0.0522 - accuracy: 0.9780 - val_loss: 0.2288 - val_accuracy: 0.9109\n",
            "Epoch 11/25\n",
            "25/25 [==============================] - 1s 30ms/step - loss: 0.0356 - accuracy: 0.9884 - val_loss: 0.2664 - val_accuracy: 0.9070\n",
            "Epoch 12/25\n",
            "25/25 [==============================] - 1s 30ms/step - loss: 0.0409 - accuracy: 0.9858 - val_loss: 0.3005 - val_accuracy: 0.8992\n",
            "Epoch 13/25\n",
            "25/25 [==============================] - 1s 31ms/step - loss: 0.0323 - accuracy: 0.9897 - val_loss: 0.3928 - val_accuracy: 0.8953\n",
            "Epoch 14/25\n",
            "25/25 [==============================] - 1s 30ms/step - loss: 0.0834 - accuracy: 0.9664 - val_loss: 0.2599 - val_accuracy: 0.9186\n",
            "Epoch 15/25\n",
            "25/25 [==============================] - 1s 32ms/step - loss: 0.0356 - accuracy: 0.9910 - val_loss: 0.2558 - val_accuracy: 0.9225\n",
            "Epoch 16/25\n",
            "25/25 [==============================] - 1s 30ms/step - loss: 0.0516 - accuracy: 0.9793 - val_loss: 0.2288 - val_accuracy: 0.9186\n",
            "Epoch 17/25\n",
            "25/25 [==============================] - 1s 32ms/step - loss: 0.0269 - accuracy: 0.9884 - val_loss: 0.2755 - val_accuracy: 0.9225\n",
            "Epoch 18/25\n",
            "25/25 [==============================] - 1s 30ms/step - loss: 0.0567 - accuracy: 0.9832 - val_loss: 0.2914 - val_accuracy: 0.9070\n",
            "Epoch 19/25\n",
            "25/25 [==============================] - 1s 30ms/step - loss: 0.0771 - accuracy: 0.9664 - val_loss: 0.2363 - val_accuracy: 0.9147\n",
            "Epoch 20/25\n",
            "25/25 [==============================] - 1s 32ms/step - loss: 0.0275 - accuracy: 0.9897 - val_loss: 0.2536 - val_accuracy: 0.9225\n",
            "Epoch 21/25\n",
            "25/25 [==============================] - 1s 32ms/step - loss: 0.0109 - accuracy: 0.9974 - val_loss: 0.3490 - val_accuracy: 0.9186\n",
            "Epoch 22/25\n",
            "25/25 [==============================] - 1s 32ms/step - loss: 0.0117 - accuracy: 0.9987 - val_loss: 0.2958 - val_accuracy: 0.9109\n",
            "Epoch 23/25\n",
            "25/25 [==============================] - 1s 32ms/step - loss: 0.0187 - accuracy: 0.9961 - val_loss: 0.3741 - val_accuracy: 0.9031\n",
            "Epoch 24/25\n",
            "25/25 [==============================] - 1s 32ms/step - loss: 0.0302 - accuracy: 0.9922 - val_loss: 0.3728 - val_accuracy: 0.9147\n",
            "Epoch 25/25\n",
            "25/25 [==============================] - 1s 32ms/step - loss: 0.0187 - accuracy: 0.9935 - val_loss: 0.3448 - val_accuracy: 0.9109\n"
          ]
        }
      ],
      "source": [
        "from keras.optimizers import Adam\n",
        "\n",
        "model.compile(loss=\"categorical_crossentropy\",optimizer= Adam(lr=0.001),metrics=['accuracy'])\n",
        "\n",
        "\n",
        "fitted_model = model.fit( train_x,train_y,epochs=25,validation_split=0.25)\n"
      ]
    },
    {
      "cell_type": "markdown",
      "source": [
        "Plot the Training Loss & Accuracy"
      ],
      "metadata": {
        "id": "vJ_yQ7vtCcjA"
      }
    },
    {
      "cell_type": "code",
      "source": [
        "from matplotlib import pyplot as plt\n",
        "# Plot Training and Validation Loss\n",
        "\n",
        "plt.plot(fitted_model.history['loss'],'r',label='training loss')\n",
        "plt.plot(fitted_model.history['val_loss'],label='validation loss')\n",
        "plt.xlabel('# epochs')\n",
        "plt.ylabel('loss')\n",
        "plt.legend()\n",
        "plt.show()"
      ],
      "metadata": {
        "colab": {
          "base_uri": "https://localhost:8080/",
          "height": 279
        },
        "id": "6NWjYYkdA-dA",
        "outputId": "cf4e7475-d077-438d-a3e4-c5b39f49888e"
      },
      "execution_count": 39,
      "outputs": [
        {
          "output_type": "display_data",
          "data": {
            "text/plain": [
              "<Figure size 432x288 with 1 Axes>"
            ],
            "image/png": "[encoded data removed]"
          },
          "metadata": {
            "needs_background": "light"
          }
        }
      ]
    },
    {
      "cell_type": "code",
      "source": [
        "# Plot Training and Validation Accuracy\n",
        "plt.plot(fitted_model.history['accuracy'],'r',label='training accuracy')\n",
        "plt.plot(fitted_model.history['val_accuracy'],label='validation accuracy')\n",
        "plt.xlabel('# epochs')\n",
        "plt.ylabel('loss')\n",
        "plt.legend()\n",
        "plt.show()"
      ],
      "metadata": {
        "colab": {
          "base_uri": "https://localhost:8080/",
          "height": 279
        },
        "id": "A-RJrQNbA-lC",
        "outputId": "3e9b696b-c8fc-487d-82d7-82ab8b0ae0cb"
      },
      "execution_count": 40,
      "outputs": [
        {
          "output_type": "display_data",
          "data": {
            "text/plain": [
              "<Figure size 432x288 with 1 Axes>"
            ],
            "image/png": "[encoded data removed]"
          },
          "metadata": {
            "needs_background": "light"
          }
        }
      ]
    },
    {
      "cell_type": "markdown",
      "source": [
        "Model Save"
      ],
      "metadata": {
        "id": "1HiL29YeDGmr"
      }
    },
    {
      "cell_type": "code",
      "execution_count": 41,
      "metadata": {
        "id": "Q1mL4sPIL-Yv"
      },
      "outputs": [],
      "source": [
        "model.save(\"model.h5\")"
      ]
    },
    {
      "cell_type": "code",
      "execution_count": null,
      "metadata": {
        "id": "Vn9stfdGkaa8"
      },
      "outputs": [],
      "source": [
        " "
      ]
    },
    {
      "cell_type": "code",
      "execution_count": null,
      "metadata": {
        "id": "WF6dwuHlhXI6"
      },
      "outputs": [],
      "source": [
        " "
      ]
    },
    {
      "cell_type": "code",
      "execution_count": null,
      "metadata": {
        "id": "rq3cZvsWhLbK"
      },
      "outputs": [],
      "source": [
        " "
      ]
    }
  ],
  "metadata": {
    "accelerator": "GPU",
    "colab": {
      "provenance": []
    },
    "gpuClass": "standard",
    "kernelspec": {
      "display_name": "Python 3",
      "name": "python3"
    },
    "language_info": {
      "name": "python"
    }
  },
  "nbformat": 4,
  "nbformat_minor": 0
}